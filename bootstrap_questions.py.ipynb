{
 "cells": [
  {
   "cell_type": "code",
   "execution_count": 1,
   "metadata": {},
   "outputs": [],
   "source": [
    "import django\n",
    "import os\n",
    "import pandas as pd\n",
    "import re\n",
    "\n",
    "os.environ.setdefault(\"DJANGO_SETTINGS_MODULE\", \"config.settings.dev\")\n",
    "django.setup()\n",
    "\n",
    "from corona_core.navigation.models import Question\n",
    "\n",
    "os.environ[\"DJANGO_ALLOW_ASYNC_UNSAFE\"] = \"true\"\n",
    "\n",
    "TAG_RE = re.compile(r'<[^>]+>')\n",
    "def remove_tags(text):\n",
    "    return TAG_RE.sub('', text)"
   ]
  },
  {
   "cell_type": "code",
   "execution_count": 2,
   "metadata": {},
   "outputs": [],
   "source": [
    "from gtts import gTTS"
   ]
  },
  {
   "cell_type": "code",
   "execution_count": 3,
   "metadata": {},
   "outputs": [],
   "source": [
    "Question.objects.all().delete()\n",
    "\n",
    "from googletrans import Translator\n",
    "translator = Translator()\n",
    "\n",
    "lang_code_translator = {\"English\": \"en\", \"Hindi\": \"hi\", \"Bengali\": \"bn\", \"Marathi\": \"mr\", \"Tamil\": \"ta\", \"Telugu\": \"te\", \"Kannada\": \"kn\", \"Gujarati\":\"gu\"}\n"
   ]
  },
  {
   "cell_type": "code",
   "execution_count": 4,
   "metadata": {},
   "outputs": [
    {
     "name": "stdout",
     "output_type": "stream",
     "text": [
      "done What is coronavirus / covid 19?\n",
      "done What are the symptoms of coronavirus?\n",
      "done How does coronavirus spread? \n",
      "done How do I protect myself from coronavirus? \n",
      "done What to do if I have coronavirus symptoms?\n"
     ]
    }
   ],
   "source": [
    "english_questions = pd.read_excel(\"questions/questions_english.xlsx\")\n",
    "for i, row in english_questions.iterrows():\n",
    "#     print(row['question'], row['answer'])\n",
    "    question = Question.objects.create(question_text = row['question'], answer_text = row['answer'], language = \"English\")\n",
    "    tts = gTTS(remove_tags(row['answer']), lang='en')\n",
    "    tts.save('corona_core/static/sounds/' + str(question.id) + '_' + 'answer.mp3')\n",
    "    tts = gTTS(remove_tags(row['question']), lang='en')\n",
    "    tts.save('corona_core/static/sounds/' + str(question.id) + '_' + 'question.mp3')\n",
    "    print(\"done\", row['question'])"
   ]
  },
  {
   "cell_type": "code",
   "execution_count": 5,
   "metadata": {},
   "outputs": [
    {
     "name": "stdout",
     "output_type": "stream",
     "text": [
      "Hindi\n",
      "Bengali\n",
      "Marathi\n",
      "Tamil\n",
      "Telugu\n",
      "Kannada\n",
      "Gujarati\n",
      "Hindi\n",
      "Bengali\n",
      "Marathi\n",
      "Tamil\n",
      "Telugu\n",
      "Kannada\n",
      "Gujarati\n",
      "Hindi\n",
      "Bengali\n",
      "Marathi\n",
      "Tamil\n",
      "Telugu\n",
      "Kannada\n",
      "Gujarati\n",
      "Hindi\n",
      "Bengali\n",
      "Marathi\n",
      "Tamil\n",
      "Telugu\n",
      "Kannada\n",
      "Gujarati\n",
      "Hindi\n",
      "Bengali\n",
      "Marathi\n",
      "Tamil\n",
      "Telugu\n",
      "Kannada\n",
      "Gujarati\n"
     ]
    }
   ],
   "source": [
    "for i, row in english_questions.iterrows():\n",
    "    for key in lang_code_translator.keys():\n",
    "        if key!=\"English\":\n",
    "            print(key)\n",
    "            question_translated = translator.translate(row['question'], src=\"en\", dest=lang_code_translator[key]).text\n",
    "            answer_translated = translator.translate(row['answer'], src=\"en\", dest=lang_code_translator[key]).text\n",
    "            question = Question.objects.create(question_text = question_translated, answer_text = answer_translated, language = key)\n",
    "            tts = gTTS(remove_tags(answer_translated), lang=lang_code_translator[key])\n",
    "            tts.save('corona_core/static/sounds/' + str(question.id) + '_' + 'answer.mp3')\n",
    "            tts = gTTS(remove_tags(question_translated), lang=lang_code_translator[key])\n",
    "            tts.save('corona_core/static/sounds/' + str(question.id) + '_' + 'question.mp3')"
   ]
  },
  {
   "cell_type": "code",
   "execution_count": null,
   "metadata": {},
   "outputs": [],
   "source": [
    "\n",
    "\n",
    "\n"
   ]
  },
  {
   "cell_type": "code",
   "execution_count": null,
   "metadata": {},
   "outputs": [],
   "source": [
    "\n",
    "\n"
   ]
  },
  {
   "cell_type": "code",
   "execution_count": null,
   "metadata": {},
   "outputs": [],
   "source": []
  }
 ],
 "metadata": {
  "kernelspec": {
   "display_name": "Python 3",
   "language": "python",
   "name": "python3"
  },
  "language_info": {
   "codemirror_mode": {
    "name": "ipython",
    "version": 3
   },
   "file_extension": ".py",
   "mimetype": "text/x-python",
   "name": "python",
   "nbconvert_exporter": "python",
   "pygments_lexer": "ipython3",
   "version": "3.7.7"
  }
 },
 "nbformat": 4,
 "nbformat_minor": 4
}
